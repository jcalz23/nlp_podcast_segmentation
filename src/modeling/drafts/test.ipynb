{
 "cells": [
  {
   "cell_type": "code",
   "execution_count": 1,
   "metadata": {},
   "outputs": [
    {
     "name": "stderr",
     "output_type": "stream",
     "text": [
      "/opt/homebrew/Caskroom/miniconda/base/envs/pod/lib/python3.11/site-packages/tqdm/auto.py:21: TqdmWarning: IProgress not found. Please update jupyter and ipywidgets. See https://ipywidgets.readthedocs.io/en/stable/user_install.html\n",
      "  from .autonotebook import tqdm as notebook_tqdm\n"
     ]
    },
    {
     "name": "stdout",
     "output_type": "stream",
     "text": [
      "Single Record:\n",
      "Sentence Embedding Shape: torch.Size([256, 384])\n",
      "Segment Indices Shape: torch.Size([256])\n",
      "Sample of Sentence Embedding: tensor([[-0.0305,  0.0120,  0.0273,  ..., -0.0209,  0.0422, -0.0173],\n",
      "        [-0.0393, -0.0090,  0.0028,  ..., -0.0202,  0.0755, -0.0272],\n",
      "        [-0.0515,  0.0250, -0.0282,  ..., -0.0357,  0.1296, -0.0534],\n",
      "        [-0.0348, -0.0384,  0.0201,  ...,  0.0702, -0.0472, -0.0051],\n",
      "        [-0.0823,  0.0004,  0.0841,  ..., -0.1221,  0.0531,  0.0019]])\n",
      "Sample of Segment Indices: tensor([1, 0, 0, 0, 0, 0, 0, 0, 0, 0])\n",
      "\n",
      "Batch:\n",
      "Batch Size: 4\n",
      "Sentence Embeddings Shape: torch.Size([4, 256, 384])\n",
      "Segment Indices Shape: torch.Size([4, 256])\n",
      "\n",
      "Item 0 in batch:\n",
      "  Sentence Embedding Shape: torch.Size([256, 384])\n",
      "  Segment Indices Shape: torch.Size([256])\n",
      "\n",
      "Item 1 in batch:\n",
      "  Sentence Embedding Shape: torch.Size([256, 384])\n",
      "  Segment Indices Shape: torch.Size([256])\n",
      "\n",
      "Item 2 in batch:\n",
      "  Sentence Embedding Shape: torch.Size([256, 384])\n",
      "  Segment Indices Shape: torch.Size([256])\n",
      "\n",
      "Item 3 in batch:\n",
      "  Sentence Embedding Shape: torch.Size([256, 384])\n",
      "  Segment Indices Shape: torch.Size([256])\n",
      "\n",
      "Sample of first item in batch:\n",
      "Sentence Embedding: tensor([[ 0.0175, -0.0759, -0.0342,  ...,  0.0655,  0.0116, -0.0050],\n",
      "        [ 0.0979, -0.1240,  0.0009,  ...,  0.0326, -0.0035, -0.0529],\n",
      "        [ 0.0500, -0.0535,  0.0347,  ...,  0.0200, -0.0015, -0.0374],\n",
      "        [ 0.0503, -0.0319,  0.0350,  ...,  0.0695,  0.0026, -0.0079],\n",
      "        [ 0.0042, -0.0529, -0.0598,  ...,  0.0476,  0.0283,  0.0197]])\n",
      "Segment Indices: tensor([0., 0., 0., 0., 0., 0., 0., 0., 0., 0.])\n"
     ]
    }
   ],
   "source": [
    "import sys\n",
    "sys.path.append('../')\n",
    "from modeling.dataloader import VideoDataModule\n",
    "import torch\n",
    "\n",
    "# Initialize the data module\n",
    "data_module = VideoDataModule(data_dir=\"../preprocessing\", batch_size=4)\n",
    "data_module.setup()\n",
    "\n",
    "# Test a single record\n",
    "train_dataset = data_module.train_dataset\n",
    "single_record = train_dataset[0]\n",
    "\n",
    "print(\"Single Record:\")\n",
    "print(f\"Sentence Embedding Shape: {single_record['sentence_embeddings'].shape}\")\n",
    "print(f\"Segment Indices Shape: {single_record['segment_indicators'].shape}\")\n",
    "print(f\"Sample of Sentence Embedding: {single_record['sentence_embeddings'][:5]}\")\n",
    "print(f\"Sample of Segment Indices: {single_record['segment_indicators'][:10]}\")\n",
    "\n",
    "# Test a batch\n",
    "train_dataloader = data_module.train_dataloader()\n",
    "batch = next(iter(train_dataloader))\n",
    "\n",
    "print(\"\\nBatch:\")\n",
    "print(f\"Batch Size: {len(batch['sentence_embeddings'])}\")\n",
    "print(f\"Sentence Embeddings Shape: {batch['sentence_embeddings'].shape}\")\n",
    "print(f\"Segment Indices Shape: {batch['segment_indicators'].shape}\")\n",
    "\n",
    "# Print shapes for each item in the batch\n",
    "for i in range(len(batch['sentence_embeddings'])):\n",
    "    print(f\"\\nItem {i} in batch:\")\n",
    "    print(f\"  Sentence Embedding Shape: {batch['sentence_embeddings'][i].shape}\")\n",
    "    print(f\"  Segment Indices Shape: {batch['segment_indicators'][i].shape}\")\n",
    "\n",
    "# Optionally, visualize the first few elements of the first item in the batch\n",
    "print(\"\\nSample of first item in batch:\")\n",
    "print(f\"Sentence Embedding: {batch['sentence_embeddings'][0][:5]}\")\n",
    "print(f\"Segment Indices: {batch['segment_indicators'][0][:10]}\")"
   ]
  },
  {
   "cell_type": "code",
   "execution_count": null,
   "metadata": {},
   "outputs": [],
   "source": []
  }
 ],
 "metadata": {
  "kernelspec": {
   "display_name": "pod",
   "language": "python",
   "name": "python3"
  },
  "language_info": {
   "codemirror_mode": {
    "name": "ipython",
    "version": 3
   },
   "file_extension": ".py",
   "mimetype": "text/x-python",
   "name": "python",
   "nbconvert_exporter": "python",
   "pygments_lexer": "ipython3",
   "version": "3.11.9"
  }
 },
 "nbformat": 4,
 "nbformat_minor": 2
}
