{
 "cells": [
  {
   "cell_type": "code",
   "execution_count": null,
   "metadata": {},
   "outputs": [],
   "source": [
    "import os\n",
    "import json\n",
    "sys.path.append(\"..\")\n",
    "from llm_inference import prepare_inputs, call_openai, process_llm_output, main\n",
    "os.environ['OPENAI_API_KEY'] = input(\"Enter your OpenAI API key: \")\n",
    "\n",
    "video_id = \"e-gwvmhyU7A\"\n",
    "pred_topic_transitions, actual_topic_transitions = main(video_id)\n",
    "\n",
    "# prompt, sentence_start_times = prepare_inputs(video_id)\n",
    "# #print(prompt)\n",
    "\n",
    "# response = call_openai(prompt, model=\"gpt-4o\")\n",
    "# print(response)"
   ]
  },
  {
   "cell_type": "code",
   "execution_count": null,
   "metadata": {},
   "outputs": [],
   "source": []
  }
 ],
 "metadata": {
  "kernelspec": {
   "display_name": "pod",
   "language": "python",
   "name": "python3"
  },
  "language_info": {
   "codemirror_mode": {
    "name": "ipython",
    "version": 3
   },
   "file_extension": ".py",
   "mimetype": "text/x-python",
   "name": "python",
   "nbconvert_exporter": "python",
   "pygments_lexer": "ipython3",
   "version": "3.11.9"
  }
 },
 "nbformat": 4,
 "nbformat_minor": 2
}
