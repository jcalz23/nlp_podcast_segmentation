{
  "nbformat": 4,
  "nbformat_minor": 0,
  "metadata": {
    "colab": {
      "provenance": [],
      "collapsed_sections": [],
      "include_colab_link": true
    },
    "kernelspec": {
      "name": "python3",
      "display_name": "Python 3"
    },
    "language_info": {
      "name": "python"
    }
  },
  "cells": [
    {
      "cell_type": "markdown",
      "metadata": {
        "id": "view-in-github",
        "colab_type": "text"
      },
      "source": [
        "<a href=\"https://colab.research.google.com/github/jcalz23/nlp_podcast_segmentation/blob/main/preprocess_TAL.ipynb\" target=\"_parent\"><img src=\"https://colab.research.google.com/assets/colab-badge.svg\" alt=\"Open In Colab\"/></a>"
      ]
    },
    {
      "cell_type": "markdown",
      "source": [
        "#Data Preprocessing\n",
        "\n",
        "Published Documents:\n",
        " - [Spotify Podcasts Dataset](https://arxiv.org/pdf/2004.04270v3.pdf)\n",
        " - [Speech Recognition Diarization](https://arxiv.org/pdf/2005.08072.pdf)\n",
        " - [Unsupervised Topic Segmentation of Meetings with BERT Embeddings](https://arxiv.org/pdf/2106.12978.pdf)\n",
        "\n",
        "\n",
        "Dataset:\n",
        " - [This American Life Podcast Transcripts](https://www.kaggle.com/datasets/shuyangli94/this-american-life-podcast-transcriptsalignments?resource=download)\n",
        "\n",
        "Citation:\n",
        "\n",
        " - Mao, H. H., Li, S., McAuley, J., & Cottrell, G. (2020). Speech Recognition and Multi-Speaker Diarization of Long Conversations. INTERSPEECH."
      ],
      "metadata": {
        "id": "cccrpWUv5Ard"
      }
    },
    {
      "cell_type": "markdown",
      "source": [
        "## Imported Packages and Libraries"
      ],
      "metadata": {
        "id": "241QKuKz6EUU"
      }
    },
    {
      "cell_type": "code",
      "source": [
        "!pip install nlp --quiet"
      ],
      "metadata": {
        "id": "vr-WK_wx8s6c",
        "colab": {
          "base_uri": "https://localhost:8080/"
        },
        "outputId": "3d61883e-307f-4e23-e4d6-cab7d46ae709"
      },
      "execution_count": null,
      "outputs": [
        {
          "output_type": "stream",
          "name": "stdout",
          "text": [
            "\u001b[K     |████████████████████████████████| 1.7 MB 5.0 MB/s \n",
            "\u001b[K     |████████████████████████████████| 212 kB 57.4 MB/s \n",
            "\u001b[?25h"
          ]
        }
      ]
    },
    {
      "cell_type": "code",
      "source": [
        "from google.colab import drive\n",
        "drive.mount('/content/drive')"
      ],
      "metadata": {
        "colab": {
          "base_uri": "https://localhost:8080/"
        },
        "id": "hGBJ4v2uRZ-4",
        "outputId": "5aedd81f-a2a0-41e5-c1fb-d5b8f613b538"
      },
      "execution_count": null,
      "outputs": [
        {
          "output_type": "stream",
          "name": "stdout",
          "text": [
            "Mounted at /content/drive\n"
          ]
        }
      ]
    },
    {
      "cell_type": "code",
      "source": [
        "base = '/content/drive/MyDrive/nlp_podcast_segmentation/'"
      ],
      "metadata": {
        "id": "HQXShSDS5dBK"
      },
      "execution_count": null,
      "outputs": []
    },
    {
      "cell_type": "code",
      "source": [
        "from collections import Counter\n",
        "import numpy as np\n",
        "import tensorflow as tf\n",
        "from tensorflow import keras\n",
        "from nlp import load_dataset\n",
        "\n",
        "import seaborn as sns\n",
        "from pprint import pprint \n",
        "\n",
        "from mpl_toolkits.mplot3d import Axes3D\n",
        "from sklearn.preprocessing import StandardScaler\n",
        "import matplotlib.pyplot as plt # plotting\n",
        "import numpy as np # linear algebra\n",
        "import os # accessing directory structure\n",
        "import pandas as pd # data processing, CSV file I/O (e.g. pd.read_csv)\n",
        "\n",
        "import json\n",
        "\n",
        "# Formatting options for float number in numpy\n",
        "float_formatter = \"{:.4f}\".format\n",
        "np.set_printoptions(formatter={'float_kind':float_formatter})"
      ],
      "metadata": {
        "id": "1zmzXjoc6Dry"
      },
      "execution_count": null,
      "outputs": []
    },
    {
      "cell_type": "markdown",
      "source": [
        "## The American Life Podcast Dataset"
      ],
      "metadata": {
        "id": "ZFABF9gw6LGa"
      }
    },
    {
      "cell_type": "markdown",
      "source": [
        "### Load"
      ],
      "metadata": {
        "id": "wKlWsYmQ7-7j"
      }
    },
    {
      "cell_type": "code",
      "source": [
        "dataset_path = base + 'data/TALDataset/'"
      ],
      "metadata": {
        "id": "HsMZp1XgRmxq"
      },
      "execution_count": null,
      "outputs": []
    },
    {
      "cell_type": "code",
      "source": [
        "full_speaker_data = dataset_path + 'full-speaker-map.json'\n",
        "test_transcript_data = dataset_path + 'test-transcripts-aligned.json'\n",
        "train_transcript_data = dataset_path + 'train-transcripts-aligned.json'\n",
        "valid_transcript_data = dataset_path + 'valid-transcripts-aligned.json'"
      ],
      "metadata": {
        "id": "r3TcmzdC5nH5"
      },
      "execution_count": null,
      "outputs": []
    },
    {
      "cell_type": "code",
      "source": [
        "with open(test_transcript_data) as json_data:\n",
        "    transcripts = json.load(json_data)\n",
        "\n",
        "print(len(transcripts))"
      ],
      "metadata": {
        "colab": {
          "base_uri": "https://localhost:8080/"
        },
        "id": "ulUL8p-fQIeP",
        "outputId": "91a9c5d9-3565-4f2a-95c9-2cef63074056"
      },
      "execution_count": null,
      "outputs": [
        {
          "output_type": "stream",
          "name": "stdout",
          "text": [
            "36\n"
          ]
        }
      ]
    },
    {
      "cell_type": "code",
      "source": [
        "# Get list of episodes\n",
        "episode_list = []\n",
        "for episode in transcripts:\n",
        "    episode_list.append(episode)\n",
        "print(episode_list)"
      ],
      "metadata": {
        "colab": {
          "base_uri": "https://localhost:8080/"
        },
        "id": "BHcnxdrmSFFn",
        "outputId": "8135e853-aa9b-4a6a-e0e7-eded418d7dfc"
      },
      "execution_count": null,
      "outputs": [
        {
          "output_type": "stream",
          "name": "stdout",
          "text": [
            "['ep-11', 'ep-113', 'ep-120', 'ep-164', 'ep-171', 'ep-177', 'ep-195', 'ep-219', 'ep-242', 'ep-258', 'ep-270', 'ep-279', 'ep-343', 'ep-355', 'ep-382', 'ep-403', 'ep-416', 'ep-432', 'ep-437', 'ep-456', 'ep-475', 'ep-489', 'ep-493', 'ep-516', 'ep-522', 'ep-524', 'ep-527', 'ep-548', 'ep-558', 'ep-619', 'ep-635', 'ep-648', 'ep-665', 'ep-682', 'ep-683', 'ep-78']\n"
          ]
        }
      ]
    },
    {
      "cell_type": "code",
      "source": [
        "# Understand 1 episode\n",
        "ep = episode_list[0]\n",
        "ep_df = pd.DataFrame(transcripts.get(ep))\n",
        "print(f\"Num Rows: {len(ep_df)}\")\n",
        "print(f\"Acts: {ep_df['act'].unique()}\")\n",
        "print(f\"Speakers: {ep_df['speaker'].unique()}\\n\")\n",
        "ep_df.head(3)"
      ],
      "metadata": {
        "colab": {
          "base_uri": "https://localhost:8080/",
          "height": 470
        },
        "id": "pwhw20ziQIT0",
        "outputId": "59aa9b90-55b8-46c0-ae82-3fadb58a418c"
      },
      "execution_count": null,
      "outputs": [
        {
          "output_type": "stream",
          "name": "stdout",
          "text": [
            "Num Rows: 234\n",
            "Acts: ['prologue' 'act1' 'act2' 'act3' 'act4' 'credits']\n",
            "Speakers: ['ira glass' 'shirley jahad' 'julia sweeney' 'bob' 'david sedaris'\n",
            " 'terry sweeney' 'dave' 'man' 'sarah thyre']\n",
            "\n"
          ]
        },
        {
          "output_type": "execute_result",
          "data": {
            "text/plain": [
              "  episode       act             act_title  role    speaker  utterance_start  \\\n",
              "0   ep-11  prologue  Act One: Dave's Love  host  ira glass             0.93   \n",
              "1   ep-11  prologue  Act One: Dave's Love  host  ira glass            32.51   \n",
              "2   ep-11  prologue  Act One: Dave's Love  host  ira glass            72.55   \n",
              "\n",
              "   utterance_end  duration                                          utterance  \\\n",
              "0          32.51     31.58  \"I'll pour this pestilence into his ear. So wi...   \n",
              "1          72.55     40.04  But in our American lives, the real era of int...   \n",
              "2          82.69     10.14  But before we get into the body of our story, ...   \n",
              "\n",
              "   n_sentences  n_words  has_q  ends_q  \\\n",
              "0            6       89  False   False   \n",
              "1            5       80  False   False   \n",
              "2            3       39  False   False   \n",
              "\n",
              "                                          alignments  \n",
              "0  [[0.93, 2.65, 1], [2.65, 2.81, 2], [2.81, 3.17...  \n",
              "1  [[32.51, 32.949999999999996, 0], [32.949999999...  \n",
              "2  [[72.55, 72.86999999999999, 0], [72.8699999999...  "
            ],
            "text/html": [
              "\n",
              "  <div id=\"df-7133e55a-bda0-4635-8eb3-971e5cc1f859\">\n",
              "    <div class=\"colab-df-container\">\n",
              "      <div>\n",
              "<style scoped>\n",
              "    .dataframe tbody tr th:only-of-type {\n",
              "        vertical-align: middle;\n",
              "    }\n",
              "\n",
              "    .dataframe tbody tr th {\n",
              "        vertical-align: top;\n",
              "    }\n",
              "\n",
              "    .dataframe thead th {\n",
              "        text-align: right;\n",
              "    }\n",
              "</style>\n",
              "<table border=\"1\" class=\"dataframe\">\n",
              "  <thead>\n",
              "    <tr style=\"text-align: right;\">\n",
              "      <th></th>\n",
              "      <th>episode</th>\n",
              "      <th>act</th>\n",
              "      <th>act_title</th>\n",
              "      <th>role</th>\n",
              "      <th>speaker</th>\n",
              "      <th>utterance_start</th>\n",
              "      <th>utterance_end</th>\n",
              "      <th>duration</th>\n",
              "      <th>utterance</th>\n",
              "      <th>n_sentences</th>\n",
              "      <th>n_words</th>\n",
              "      <th>has_q</th>\n",
              "      <th>ends_q</th>\n",
              "      <th>alignments</th>\n",
              "    </tr>\n",
              "  </thead>\n",
              "  <tbody>\n",
              "    <tr>\n",
              "      <th>0</th>\n",
              "      <td>ep-11</td>\n",
              "      <td>prologue</td>\n",
              "      <td>Act One: Dave's Love</td>\n",
              "      <td>host</td>\n",
              "      <td>ira glass</td>\n",
              "      <td>0.93</td>\n",
              "      <td>32.51</td>\n",
              "      <td>31.58</td>\n",
              "      <td>\"I'll pour this pestilence into his ear. So wi...</td>\n",
              "      <td>6</td>\n",
              "      <td>89</td>\n",
              "      <td>False</td>\n",
              "      <td>False</td>\n",
              "      <td>[[0.93, 2.65, 1], [2.65, 2.81, 2], [2.81, 3.17...</td>\n",
              "    </tr>\n",
              "    <tr>\n",
              "      <th>1</th>\n",
              "      <td>ep-11</td>\n",
              "      <td>prologue</td>\n",
              "      <td>Act One: Dave's Love</td>\n",
              "      <td>host</td>\n",
              "      <td>ira glass</td>\n",
              "      <td>32.51</td>\n",
              "      <td>72.55</td>\n",
              "      <td>40.04</td>\n",
              "      <td>But in our American lives, the real era of int...</td>\n",
              "      <td>5</td>\n",
              "      <td>80</td>\n",
              "      <td>False</td>\n",
              "      <td>False</td>\n",
              "      <td>[[32.51, 32.949999999999996, 0], [32.949999999...</td>\n",
              "    </tr>\n",
              "    <tr>\n",
              "      <th>2</th>\n",
              "      <td>ep-11</td>\n",
              "      <td>prologue</td>\n",
              "      <td>Act One: Dave's Love</td>\n",
              "      <td>host</td>\n",
              "      <td>ira glass</td>\n",
              "      <td>72.55</td>\n",
              "      <td>82.69</td>\n",
              "      <td>10.14</td>\n",
              "      <td>But before we get into the body of our story, ...</td>\n",
              "      <td>3</td>\n",
              "      <td>39</td>\n",
              "      <td>False</td>\n",
              "      <td>False</td>\n",
              "      <td>[[72.55, 72.86999999999999, 0], [72.8699999999...</td>\n",
              "    </tr>\n",
              "  </tbody>\n",
              "</table>\n",
              "</div>\n",
              "      <button class=\"colab-df-convert\" onclick=\"convertToInteractive('df-7133e55a-bda0-4635-8eb3-971e5cc1f859')\"\n",
              "              title=\"Convert this dataframe to an interactive table.\"\n",
              "              style=\"display:none;\">\n",
              "        \n",
              "  <svg xmlns=\"http://www.w3.org/2000/svg\" height=\"24px\"viewBox=\"0 0 24 24\"\n",
              "       width=\"24px\">\n",
              "    <path d=\"M0 0h24v24H0V0z\" fill=\"none\"/>\n",
              "    <path d=\"M18.56 5.44l.94 2.06.94-2.06 2.06-.94-2.06-.94-.94-2.06-.94 2.06-2.06.94zm-11 1L8.5 8.5l.94-2.06 2.06-.94-2.06-.94L8.5 2.5l-.94 2.06-2.06.94zm10 10l.94 2.06.94-2.06 2.06-.94-2.06-.94-.94-2.06-.94 2.06-2.06.94z\"/><path d=\"M17.41 7.96l-1.37-1.37c-.4-.4-.92-.59-1.43-.59-.52 0-1.04.2-1.43.59L10.3 9.45l-7.72 7.72c-.78.78-.78 2.05 0 2.83L4 21.41c.39.39.9.59 1.41.59.51 0 1.02-.2 1.41-.59l7.78-7.78 2.81-2.81c.8-.78.8-2.07 0-2.86zM5.41 20L4 18.59l7.72-7.72 1.47 1.35L5.41 20z\"/>\n",
              "  </svg>\n",
              "      </button>\n",
              "      \n",
              "  <style>\n",
              "    .colab-df-container {\n",
              "      display:flex;\n",
              "      flex-wrap:wrap;\n",
              "      gap: 12px;\n",
              "    }\n",
              "\n",
              "    .colab-df-convert {\n",
              "      background-color: #E8F0FE;\n",
              "      border: none;\n",
              "      border-radius: 50%;\n",
              "      cursor: pointer;\n",
              "      display: none;\n",
              "      fill: #1967D2;\n",
              "      height: 32px;\n",
              "      padding: 0 0 0 0;\n",
              "      width: 32px;\n",
              "    }\n",
              "\n",
              "    .colab-df-convert:hover {\n",
              "      background-color: #E2EBFA;\n",
              "      box-shadow: 0px 1px 2px rgba(60, 64, 67, 0.3), 0px 1px 3px 1px rgba(60, 64, 67, 0.15);\n",
              "      fill: #174EA6;\n",
              "    }\n",
              "\n",
              "    [theme=dark] .colab-df-convert {\n",
              "      background-color: #3B4455;\n",
              "      fill: #D2E3FC;\n",
              "    }\n",
              "\n",
              "    [theme=dark] .colab-df-convert:hover {\n",
              "      background-color: #434B5C;\n",
              "      box-shadow: 0px 1px 3px 1px rgba(0, 0, 0, 0.15);\n",
              "      filter: drop-shadow(0px 1px 2px rgba(0, 0, 0, 0.3));\n",
              "      fill: #FFFFFF;\n",
              "    }\n",
              "  </style>\n",
              "\n",
              "      <script>\n",
              "        const buttonEl =\n",
              "          document.querySelector('#df-7133e55a-bda0-4635-8eb3-971e5cc1f859 button.colab-df-convert');\n",
              "        buttonEl.style.display =\n",
              "          google.colab.kernel.accessAllowed ? 'block' : 'none';\n",
              "\n",
              "        async function convertToInteractive(key) {\n",
              "          const element = document.querySelector('#df-7133e55a-bda0-4635-8eb3-971e5cc1f859');\n",
              "          const dataTable =\n",
              "            await google.colab.kernel.invokeFunction('convertToInteractive',\n",
              "                                                     [key], {});\n",
              "          if (!dataTable) return;\n",
              "\n",
              "          const docLinkHtml = 'Like what you see? Visit the ' +\n",
              "            '<a target=\"_blank\" href=https://colab.research.google.com/notebooks/data_table.ipynb>data table notebook</a>'\n",
              "            + ' to learn more about interactive tables.';\n",
              "          element.innerHTML = '';\n",
              "          dataTable['output_type'] = 'display_data';\n",
              "          await google.colab.output.renderOutput(dataTable, element);\n",
              "          const docLink = document.createElement('div');\n",
              "          docLink.innerHTML = docLinkHtml;\n",
              "          element.appendChild(docLink);\n",
              "        }\n",
              "      </script>\n",
              "    </div>\n",
              "  </div>\n",
              "  "
            ]
          },
          "metadata": {},
          "execution_count": 39
        }
      ]
    },
    {
      "cell_type": "code",
      "source": [
        "# Check one conversation\n",
        "for line in transcripts[ep][:4]:\n",
        "    print(line['speaker'], \": \", line['utterance'], \"\\n\")"
      ],
      "metadata": {
        "colab": {
          "base_uri": "https://localhost:8080/"
        },
        "id": "AObKPUhES9Cl",
        "outputId": "e071067b-a81a-4c73-c1fd-bac60fa2afc8"
      },
      "execution_count": null,
      "outputs": [
        {
          "output_type": "stream",
          "name": "stdout",
          "text": [
            "ira glass :  \"I'll pour this pestilence into his ear. So will I make the net that will enmesh them all.\" It's an adult, Iago, who says that in Othello. And it's grownups that Machiavelli was writing about when he wrote The Prince, his book about manipulating others and seizing power. Notice he titled the book The Prince, not The Little Prince. The Little Prince is actually by somebody else, if you don't know that. \n",
            "\n",
            "ira glass :  But in our American lives, the real era of intrigue and manipulation for most of us is not adulthood. It's adolescence, when our social circle is at its most constricting. Today on our program, a story of betrayal and of someone who holds David Koresh-like powers over others, and who is only in the seventh grade. From WBEZ in Chicago, it's Your Radio Playhouse. I'm Ira Glass. \n",
            "\n",
            "ira glass :  But before we get into the body of our story, we will try, as adults, to manipulate you a little bit at Pledge Central. Let's check in with Pledge Central. Shirley Jahad. \n",
            "\n",
            "shirley jahad :  Hi, Ira Glass. \n",
            "\n"
          ]
        }
      ]
    },
    {
      "cell_type": "markdown",
      "source": [
        "### Process"
      ],
      "metadata": {
        "id": "9YwFLjTG8SDM"
      }
    },
    {
      "cell_type": "code",
      "source": [
        "# Goal: Get a df of utterances, and the corresponding topic per episode\n",
        "ep_df = pd.DataFrame(transcripts.get(ep))\n",
        "ep_df = ep_df[['episode', 'act', 'speaker', 'utterance']]\n",
        "ep_df.head()"
      ],
      "metadata": {
        "colab": {
          "base_uri": "https://localhost:8080/",
          "height": 206
        },
        "id": "n3x1E30MUScz",
        "outputId": "2ee789df-f1c3-4479-97a3-a9e728fe122c"
      },
      "execution_count": null,
      "outputs": [
        {
          "output_type": "execute_result",
          "data": {
            "text/plain": [
              "  episode       act        speaker  \\\n",
              "0   ep-11  prologue      ira glass   \n",
              "1   ep-11  prologue      ira glass   \n",
              "2   ep-11  prologue      ira glass   \n",
              "3   ep-11  prologue  shirley jahad   \n",
              "4   ep-11  prologue      ira glass   \n",
              "\n",
              "                                           utterance  \n",
              "0  \"I'll pour this pestilence into his ear. So wi...  \n",
              "1  But in our American lives, the real era of int...  \n",
              "2  But before we get into the body of our story, ...  \n",
              "3                                     Hi, Ira Glass.  \n",
              "4                                                Hi.  "
            ],
            "text/html": [
              "\n",
              "  <div id=\"df-08ae61ca-aaa3-4984-ae2c-024321c5080a\">\n",
              "    <div class=\"colab-df-container\">\n",
              "      <div>\n",
              "<style scoped>\n",
              "    .dataframe tbody tr th:only-of-type {\n",
              "        vertical-align: middle;\n",
              "    }\n",
              "\n",
              "    .dataframe tbody tr th {\n",
              "        vertical-align: top;\n",
              "    }\n",
              "\n",
              "    .dataframe thead th {\n",
              "        text-align: right;\n",
              "    }\n",
              "</style>\n",
              "<table border=\"1\" class=\"dataframe\">\n",
              "  <thead>\n",
              "    <tr style=\"text-align: right;\">\n",
              "      <th></th>\n",
              "      <th>episode</th>\n",
              "      <th>act</th>\n",
              "      <th>speaker</th>\n",
              "      <th>utterance</th>\n",
              "    </tr>\n",
              "  </thead>\n",
              "  <tbody>\n",
              "    <tr>\n",
              "      <th>0</th>\n",
              "      <td>ep-11</td>\n",
              "      <td>prologue</td>\n",
              "      <td>ira glass</td>\n",
              "      <td>\"I'll pour this pestilence into his ear. So wi...</td>\n",
              "    </tr>\n",
              "    <tr>\n",
              "      <th>1</th>\n",
              "      <td>ep-11</td>\n",
              "      <td>prologue</td>\n",
              "      <td>ira glass</td>\n",
              "      <td>But in our American lives, the real era of int...</td>\n",
              "    </tr>\n",
              "    <tr>\n",
              "      <th>2</th>\n",
              "      <td>ep-11</td>\n",
              "      <td>prologue</td>\n",
              "      <td>ira glass</td>\n",
              "      <td>But before we get into the body of our story, ...</td>\n",
              "    </tr>\n",
              "    <tr>\n",
              "      <th>3</th>\n",
              "      <td>ep-11</td>\n",
              "      <td>prologue</td>\n",
              "      <td>shirley jahad</td>\n",
              "      <td>Hi, Ira Glass.</td>\n",
              "    </tr>\n",
              "    <tr>\n",
              "      <th>4</th>\n",
              "      <td>ep-11</td>\n",
              "      <td>prologue</td>\n",
              "      <td>ira glass</td>\n",
              "      <td>Hi.</td>\n",
              "    </tr>\n",
              "  </tbody>\n",
              "</table>\n",
              "</div>\n",
              "      <button class=\"colab-df-convert\" onclick=\"convertToInteractive('df-08ae61ca-aaa3-4984-ae2c-024321c5080a')\"\n",
              "              title=\"Convert this dataframe to an interactive table.\"\n",
              "              style=\"display:none;\">\n",
              "        \n",
              "  <svg xmlns=\"http://www.w3.org/2000/svg\" height=\"24px\"viewBox=\"0 0 24 24\"\n",
              "       width=\"24px\">\n",
              "    <path d=\"M0 0h24v24H0V0z\" fill=\"none\"/>\n",
              "    <path d=\"M18.56 5.44l.94 2.06.94-2.06 2.06-.94-2.06-.94-.94-2.06-.94 2.06-2.06.94zm-11 1L8.5 8.5l.94-2.06 2.06-.94-2.06-.94L8.5 2.5l-.94 2.06-2.06.94zm10 10l.94 2.06.94-2.06 2.06-.94-2.06-.94-.94-2.06-.94 2.06-2.06.94z\"/><path d=\"M17.41 7.96l-1.37-1.37c-.4-.4-.92-.59-1.43-.59-.52 0-1.04.2-1.43.59L10.3 9.45l-7.72 7.72c-.78.78-.78 2.05 0 2.83L4 21.41c.39.39.9.59 1.41.59.51 0 1.02-.2 1.41-.59l7.78-7.78 2.81-2.81c.8-.78.8-2.07 0-2.86zM5.41 20L4 18.59l7.72-7.72 1.47 1.35L5.41 20z\"/>\n",
              "  </svg>\n",
              "      </button>\n",
              "      \n",
              "  <style>\n",
              "    .colab-df-container {\n",
              "      display:flex;\n",
              "      flex-wrap:wrap;\n",
              "      gap: 12px;\n",
              "    }\n",
              "\n",
              "    .colab-df-convert {\n",
              "      background-color: #E8F0FE;\n",
              "      border: none;\n",
              "      border-radius: 50%;\n",
              "      cursor: pointer;\n",
              "      display: none;\n",
              "      fill: #1967D2;\n",
              "      height: 32px;\n",
              "      padding: 0 0 0 0;\n",
              "      width: 32px;\n",
              "    }\n",
              "\n",
              "    .colab-df-convert:hover {\n",
              "      background-color: #E2EBFA;\n",
              "      box-shadow: 0px 1px 2px rgba(60, 64, 67, 0.3), 0px 1px 3px 1px rgba(60, 64, 67, 0.15);\n",
              "      fill: #174EA6;\n",
              "    }\n",
              "\n",
              "    [theme=dark] .colab-df-convert {\n",
              "      background-color: #3B4455;\n",
              "      fill: #D2E3FC;\n",
              "    }\n",
              "\n",
              "    [theme=dark] .colab-df-convert:hover {\n",
              "      background-color: #434B5C;\n",
              "      box-shadow: 0px 1px 3px 1px rgba(0, 0, 0, 0.15);\n",
              "      filter: drop-shadow(0px 1px 2px rgba(0, 0, 0, 0.3));\n",
              "      fill: #FFFFFF;\n",
              "    }\n",
              "  </style>\n",
              "\n",
              "      <script>\n",
              "        const buttonEl =\n",
              "          document.querySelector('#df-08ae61ca-aaa3-4984-ae2c-024321c5080a button.colab-df-convert');\n",
              "        buttonEl.style.display =\n",
              "          google.colab.kernel.accessAllowed ? 'block' : 'none';\n",
              "\n",
              "        async function convertToInteractive(key) {\n",
              "          const element = document.querySelector('#df-08ae61ca-aaa3-4984-ae2c-024321c5080a');\n",
              "          const dataTable =\n",
              "            await google.colab.kernel.invokeFunction('convertToInteractive',\n",
              "                                                     [key], {});\n",
              "          if (!dataTable) return;\n",
              "\n",
              "          const docLinkHtml = 'Like what you see? Visit the ' +\n",
              "            '<a target=\"_blank\" href=https://colab.research.google.com/notebooks/data_table.ipynb>data table notebook</a>'\n",
              "            + ' to learn more about interactive tables.';\n",
              "          element.innerHTML = '';\n",
              "          dataTable['output_type'] = 'display_data';\n",
              "          await google.colab.output.renderOutput(dataTable, element);\n",
              "          const docLink = document.createElement('div');\n",
              "          docLink.innerHTML = docLinkHtml;\n",
              "          element.appendChild(docLink);\n",
              "        }\n",
              "      </script>\n",
              "    </div>\n",
              "  </div>\n",
              "  "
            ]
          },
          "metadata": {},
          "execution_count": 42
        }
      ]
    },
    {
      "cell_type": "code",
      "source": [
        "# Goal: For each input episode, get a list of utterances and corresponding topic\n",
        "U_list = []\n",
        "T_list = []\n",
        "\n",
        "for ep in episode_list:\n",
        "  U = []  #  list of M utterances U = {U_1,..., U_M}\n",
        "  T_temp = []  #  Topic label\n",
        "  T = []  #  Topic label transition indicator\n",
        "\n",
        "  for line in transcripts[ep]:\n",
        "    U.append(line['utterance'])\n",
        "    T_temp.append(line['act'])\n",
        "\n",
        "  #Format topic transitions\n",
        "  T = np.zeros(len(T_temp))\n",
        "  for i in range(len(T_temp)):\n",
        "    if i == 0:\n",
        "      T[i] = 1\n",
        "    if i != (len(T)-1):\n",
        "      if T_temp[i] != T_temp[i+1]:\n",
        "        T[i] = 1\n",
        "  T = T.astype(int)\n",
        "  \n",
        "  # Append to episode matrix\n",
        "  U_list.append(U)\n",
        "  T_list.append(T)\n",
        "\n",
        "print(len(U_list))\n",
        "print(U_list[0][:3])\n",
        "print(T_list[0][:3])"
      ],
      "metadata": {
        "colab": {
          "base_uri": "https://localhost:8080/"
        },
        "id": "NPfu2vk5TT1c",
        "outputId": "21ad71c8-e4d4-439b-8571-6c06aefc5c86"
      },
      "execution_count": null,
      "outputs": [
        {
          "output_type": "stream",
          "name": "stdout",
          "text": [
            "36\n",
            "['\"I\\'ll pour this pestilence into his ear. So will I make the net that will enmesh them all.\" It\\'s an adult, Iago, who says that in Othello. And it\\'s grownups that Machiavelli was writing about when he wrote The Prince, his book about manipulating others and seizing power. Notice he titled the book The Prince, not The Little Prince. The Little Prince is actually by somebody else, if you don\\'t know that.', \"But in our American lives, the real era of intrigue and manipulation for most of us is not adulthood. It's adolescence, when our social circle is at its most constricting. Today on our program, a story of betrayal and of someone who holds David Koresh-like powers over others, and who is only in the seventh grade. From WBEZ in Chicago, it's Your Radio Playhouse. I'm Ira Glass.\", \"But before we get into the body of our story, we will try, as adults, to manipulate you a little bit at Pledge Central. Let's check in with Pledge Central. Shirley Jahad.\"]\n",
            "[1 0 0]\n"
          ]
        }
      ]
    },
    {
      "cell_type": "code",
      "source": [
        "# Get vocab, convert words to tokens"
      ],
      "metadata": {
        "id": "eQTidT7RYuhx"
      },
      "execution_count": null,
      "outputs": []
    },
    {
      "cell_type": "code",
      "source": [
        "# Pad each individual utterance and each sequence/episode of utterances\n",
        "max_utter = 50\n",
        "max_sequence = 200"
      ],
      "metadata": {
        "id": "PtxfkvZEUMOo"
      },
      "execution_count": null,
      "outputs": []
    },
    {
      "cell_type": "code",
      "source": [],
      "metadata": {
        "id": "TZuZQynEY7Z9"
      },
      "execution_count": null,
      "outputs": []
    },
    {
      "cell_type": "code",
      "source": [],
      "metadata": {
        "id": "V3dbY0sbY-SW"
      },
      "execution_count": null,
      "outputs": []
    }
  ]
}